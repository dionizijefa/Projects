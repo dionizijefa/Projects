{
 "cells": [
  {
   "cell_type": "markdown",
   "metadata": {},
   "source": [
    "# Predicting constant volume heat capacity of organic molecules with a graph convolutional network"
   ]
  },
  {
   "cell_type": "code",
   "execution_count": 1,
   "metadata": {},
   "outputs": [
    {
     "name": "stderr",
     "output_type": "stream",
     "text": [
      "Using TensorFlow backend.\n"
     ]
    }
   ],
   "source": [
    "from rdkit.Chem.rdmolfiles import MolFromMol2File\n",
    "import os\n",
    "import pandas as pd\n",
    "from spektral.utils import nx_to_adj\n",
    "from rdkit import Chem\n",
    "import networkx as nx\n",
    "from matplotlib import pyplot as plt\n",
    "from tqdm import tqdm\n",
    "from rdkit.Chem.rdMolDescriptors import CalcMolFormula\n",
    "from rdkit.Chem import MolToSmiles\n",
    "import spektral as spek\n",
    "import numpy as np\n",
    "from sklearn.model_selection import train_test_split\n",
    "from keras.layers import Input, Dense\n",
    "from keras.models import Model\n",
    "from keras.optimizers import Adam\n",
    "from spektral.layers import EdgeConditionedConv, GlobalAttentionPool\n",
    "from keras.callbacks import EarlyStopping\n",
    "from keras.utils import Sequence\n",
    "from numpy import random\n",
    "from sklearn.metrics import mean_absolute_error\n",
    "import seaborn as sns"
   ]
  },
  {
   "cell_type": "markdown",
   "metadata": {},
   "source": [
    "## Preprocessing data"
   ]
  },
  {
   "cell_type": "markdown",
   "metadata": {},
   "source": [
    "Loading the training set data"
   ]
  },
  {
   "cell_type": "code",
   "execution_count": 2,
   "metadata": {},
   "outputs": [],
   "source": [
    "train_type_one = pd.read_csv('/home/dionizije/Desktop/Code/Predicting molecular properties/train_type_one.csv',\n",
    "                             index_col = [0])"
   ]
  },
  {
   "cell_type": "code",
   "execution_count": 4,
   "metadata": {},
   "outputs": [
    {
     "data": {
      "text/html": [
       "<div>\n",
       "<style scoped>\n",
       "    .dataframe tbody tr th:only-of-type {\n",
       "        vertical-align: middle;\n",
       "    }\n",
       "\n",
       "    .dataframe tbody tr th {\n",
       "        vertical-align: top;\n",
       "    }\n",
       "\n",
       "    .dataframe thead th {\n",
       "        text-align: right;\n",
       "    }\n",
       "</style>\n",
       "<table border=\"1\" class=\"dataframe\">\n",
       "  <thead>\n",
       "    <tr style=\"text-align: right;\">\n",
       "      <th></th>\n",
       "      <th>molecule_name</th>\n",
       "      <th>atom_index_0</th>\n",
       "      <th>atom_index_1</th>\n",
       "      <th>type</th>\n",
       "      <th>scalar_coupling_constant</th>\n",
       "      <th>atom_0</th>\n",
       "      <th>atom_1</th>\n",
       "      <th>dist_coupling_atoms</th>\n",
       "    </tr>\n",
       "  </thead>\n",
       "  <tbody>\n",
       "    <tr>\n",
       "      <td>0</td>\n",
       "      <td>dsgdb9nsd_000001</td>\n",
       "      <td>1</td>\n",
       "      <td>0</td>\n",
       "      <td>1JHC</td>\n",
       "      <td>84.8076</td>\n",
       "      <td>H</td>\n",
       "      <td>C</td>\n",
       "      <td>0.596181</td>\n",
       "    </tr>\n",
       "    <tr>\n",
       "      <td>4</td>\n",
       "      <td>dsgdb9nsd_000001</td>\n",
       "      <td>2</td>\n",
       "      <td>0</td>\n",
       "      <td>1JHC</td>\n",
       "      <td>84.8074</td>\n",
       "      <td>H</td>\n",
       "      <td>C</td>\n",
       "      <td>0.596179</td>\n",
       "    </tr>\n",
       "    <tr>\n",
       "      <td>7</td>\n",
       "      <td>dsgdb9nsd_000001</td>\n",
       "      <td>3</td>\n",
       "      <td>0</td>\n",
       "      <td>1JHC</td>\n",
       "      <td>84.8093</td>\n",
       "      <td>H</td>\n",
       "      <td>C</td>\n",
       "      <td>0.596173</td>\n",
       "    </tr>\n",
       "    <tr>\n",
       "      <td>9</td>\n",
       "      <td>dsgdb9nsd_000001</td>\n",
       "      <td>4</td>\n",
       "      <td>0</td>\n",
       "      <td>1JHC</td>\n",
       "      <td>84.8095</td>\n",
       "      <td>H</td>\n",
       "      <td>C</td>\n",
       "      <td>0.596175</td>\n",
       "    </tr>\n",
       "    <tr>\n",
       "      <td>17</td>\n",
       "      <td>dsgdb9nsd_000005</td>\n",
       "      <td>2</td>\n",
       "      <td>0</td>\n",
       "      <td>1JHC</td>\n",
       "      <td>171.2200</td>\n",
       "      <td>H</td>\n",
       "      <td>C</td>\n",
       "      <td>0.568816</td>\n",
       "    </tr>\n",
       "  </tbody>\n",
       "</table>\n",
       "</div>"
      ],
      "text/plain": [
       "       molecule_name  atom_index_0  atom_index_1  type  \\\n",
       "0   dsgdb9nsd_000001             1             0  1JHC   \n",
       "4   dsgdb9nsd_000001             2             0  1JHC   \n",
       "7   dsgdb9nsd_000001             3             0  1JHC   \n",
       "9   dsgdb9nsd_000001             4             0  1JHC   \n",
       "17  dsgdb9nsd_000005             2             0  1JHC   \n",
       "\n",
       "    scalar_coupling_constant atom_0 atom_1  dist_coupling_atoms  \n",
       "0                    84.8076      H      C             0.596181  \n",
       "4                    84.8074      H      C             0.596179  \n",
       "7                    84.8093      H      C             0.596173  \n",
       "9                    84.8095      H      C             0.596175  \n",
       "17                  171.2200      H      C             0.568816  "
      ]
     },
     "execution_count": 4,
     "metadata": {},
     "output_type": "execute_result"
    }
   ],
   "source": [
    "train_type_one.head()"
   ]
  },
  {
   "cell_type": "code",
   "execution_count": 3,
   "metadata": {},
   "outputs": [],
   "source": [
    "molecule_names_type_one = train_type_one['molecule_name'].unique()"
   ]
  },
  {
   "cell_type": "code",
   "execution_count": 6,
   "metadata": {},
   "outputs": [],
   "source": [
    "def mol_2_files():\n",
    "    \"\"\"Converts .mol2 molecules to RDKit molecules\"\"\"\n",
    "    files = []\n",
    "    for file in os.listdir('/home/dionizije/Desktop/Code/Predicting molecular properties/mol'):\n",
    "        if file.endswith('.mol2'):\n",
    "            files.append(file)\n",
    "    molecules = []\n",
    "    for molecule in files:\n",
    "        molecule_name = os.path.splitext(molecule)[0] #removes extension\n",
    "        if molecule_name in molecule_names_type_one:\n",
    "            try: #try statement, because there is/could be a .mol2 file which is not a molecule and stops execution\n",
    "                mol2_object = MolFromMol2File(molecule,\n",
    "                                              sanitize = False)\n",
    "                molecule_name = molecule.rsplit(\".\", 1)[0] #gets rid of the extension\n",
    "                mol2_object.SetProp('_Name', '{}'.format(molecule_name))\n",
    "                molecules.append(mol2_object)\n",
    "            except:\n",
    "                pass\n",
    "    print('Molecules converted to RDkit molecules')\n",
    "    return molecules"
   ]
  },
  {
   "cell_type": "code",
   "execution_count": 7,
   "metadata": {},
   "outputs": [
    {
     "name": "stdout",
     "output_type": "stream",
     "text": [
      "Molecules converted to RDkit molecules\n"
     ]
    }
   ],
   "source": [
    "molecules = mol_2_files()"
   ]
  },
  {
   "cell_type": "markdown",
   "metadata": {},
   "source": [
    "## Creating molecular graphs"
   ]
  },
  {
   "cell_type": "markdown",
   "metadata": {},
   "source": [
    "Reading structures files"
   ]
  },
  {
   "cell_type": "code",
   "execution_count": 8,
   "metadata": {},
   "outputs": [],
   "source": [
    "structures = pd.read_csv('/home/dionizije/Desktop/Code/Predicting molecular properties/Code/structures.csv')"
   ]
  },
  {
   "cell_type": "code",
   "execution_count": null,
   "metadata": {},
   "outputs": [],
   "source": [
    "def make_graphs(molecule):\n",
    "    \"\"\" Makes networkx graphs from training set and structures\"\"\"\n",
    "    molecule_name = molecule.GetProp(\"_Name\")\n",
    "    molecule_data_from_structures = structures.query(\"molecule_name == '{}'\".format(molecule_name))\n",
    "    \n",
    "    G = nx.Graph(name = molecule_name)\n",
    "\n",
    "    for atom in molecule.GetAtoms():\n",
    "        G.add_node(atom.GetIdx(),\n",
    "                   atomic_num = atom.GetAtomicNum(),\n",
    "                   atom_symbol = atom.GetSymbol(),\n",
    "                   atom_degree = atom.GetDegree(),\n",
    "                   atom_formal_charge = atom.GetFormalCharge(),\n",
    "                   atom_hybridization = atom.GetHybridization())\n",
    "    \n",
    "    for bond in molecule.GetBonds():\n",
    "        bond_atom_0 = bond.GetBeginAtomIdx()\n",
    "        bond_atom_1 = bond.GetEndAtomIdx()\n",
    "        G.add_edge(bond.GetBeginAtomIdx(),\n",
    "                       bond.GetEndAtomIdx(),\n",
    "                       bond_type = bond.GetBondType())\n",
    "       \n",
    "        #calculating distance between 2 points\n",
    "        bond_atom_0_x = molecule_data_from_structures.query(\"atom_index == '{}'\".format(bond_atom_0))['x'].values[0]\n",
    "        bond_atom_0_y = molecule_data_from_structures.query(\"atom_index == '{}'\".format(bond_atom_0))['y'].values[0]\n",
    "        bond_atom_0_z = molecule_data_from_structures.query(\"atom_index == '{}'\".format(bond_atom_0))['z'].values[0]\n",
    "        \n",
    "        bond_atom_1_x = molecule_data_from_structures.query(\"atom_index == '{}'\".format(bond_atom_1))['x'].values[0]\n",
    "        bond_atom_1_y = molecule_data_from_structures.query(\"atom_index == '{}'\".format(bond_atom_1))['y'].values[0]\n",
    "        bond_atom_1_z = molecule_data_from_structures.query(\"atom_index == '{}'\".format(bond_atom_1))['z'].values[0]\n",
    "        \n",
    "        distance = ((bond_atom_1_x - bond_atom_0_x)**2 + (bond_atom_1_y - bond_atom_0_y)**2 + (bond_atom_1_z - bond_atom_0_z)**2)**1/2\n",
    "        G[bond_atom_0][bond_atom_1]['dist_atoms'] = distance\n",
    "            \n",
    "    return G"
   ]
  },
  {
   "cell_type": "code",
   "execution_count": null,
   "metadata": {},
   "outputs": [],
   "source": [
    "molecule_graphs = []\n",
    "for molecule in tqdm(molecules):\n",
    "    molecular_graph = make_graphs(molecule)\n",
    "    molecule_graphs.append(molecular_graph)"
   ]
  },
  {
   "cell_type": "markdown",
   "metadata": {},
   "source": [
    "Reading graphs from files"
   ]
  },
  {
   "cell_type": "code",
   "execution_count": 2,
   "metadata": {},
   "outputs": [
    {
     "name": "stderr",
     "output_type": "stream",
     "text": [
      "100%|██████████| 84747/84747 [00:47<00:00, 1788.33it/s]"
     ]
    },
    {
     "name": "stdout",
     "output_type": "stream",
     "text": [
      "Graphs read from folder\n"
     ]
    },
    {
     "name": "stderr",
     "output_type": "stream",
     "text": [
      "\n"
     ]
    }
   ],
   "source": [
    "molecule_graphs = []\n",
    "for graph in tqdm(os.listdir('/home/dionizije/Desktop/Code/Predicting molecular properties/Graph CNN/Type_one_graphs/')):\n",
    "    molecule_graph = nx.read_gpickle('/home/dionizije/Desktop/Code/Predicting molecular properties/Graph CNN/Type_one_graphs/'+ graph)\n",
    "    molecule_graphs.append(molecule_graph)\n",
    "print('Graphs read from folder')"
   ]
  },
  {
   "cell_type": "markdown",
   "metadata": {},
   "source": [
    "Drawing molecular graphs"
   ]
  },
  {
   "cell_type": "code",
   "execution_count": 14,
   "metadata": {},
   "outputs": [
    {
     "data": {
      "text/plain": [
       "<matplotlib.collections.LineCollection at 0x7fea2f2d92d0>"
      ]
     },
     "execution_count": 14,
     "metadata": {},
     "output_type": "execute_result"
    },
    {
     "data": {
      "image/png": "[encoded data removed]",
      "text/plain": [
       "<Figure size 432x288 with 1 Axes>"
      ]
     },
     "metadata": {},
     "output_type": "display_data"
    }
   ],
   "source": [
    "G = molecule_graphs[0]\n",
    "\n",
    "pos = nx.kamada_kawai_layout(G)\n",
    "atom_symbols = nx.get_node_attributes(G, 'atom_symbol')\n",
    "edge_attributes = nx.get_edge_attributes(G, 'dist_atoms')\n",
    "edges = G.edges()\n",
    "nx.draw(G, pos, labels = atom_symbols,edges = edges, width = 1)\n",
    "nx.draw_networkx_edges(G, pos, labels = edge_attributes)"
   ]
  },
  {
   "cell_type": "markdown",
   "metadata": {},
   "source": [
    "Reading specific heat capacity for molecules"
   ]
  },
  {
   "cell_type": "code",
   "execution_count": 3,
   "metadata": {},
   "outputs": [
    {
     "name": "stderr",
     "output_type": "stream",
     "text": [
      "100%|██████████| 84747/84747 [00:37<00:00, 2288.80it/s]\n"
     ]
    }
   ],
   "source": [
    "path = '/home/dionizije/Downloads/dsgdb9/'\n",
    "heat_capacity_unit = 'cal/(molK)' #heat capacity at 298.15K\n",
    "molecule_data = []\n",
    "for molecule_graph in tqdm(molecule_graphs):\n",
    "    name = molecule_graph.graph['name']\n",
    "    with open(path + name + '.xyz') as file:\n",
    "        data = file.readlines()[1]\n",
    "        data = data.split()\n",
    "        name_tag = data[0] + data[1]\n",
    "        heat_capacity_cv = data[-1] #heat capacity at last position, according to readme\n",
    "        dictionary = {'name': name_tag,\n",
    "                      'heat_capacity_cv': heat_capacity_cv}\n",
    "        molecule_data.append(dictionary)\n",
    "\n",
    "target = pd.DataFrame.from_records(molecule_data, index = 'name')"
   ]
  },
  {
   "cell_type": "code",
   "execution_count": 16,
   "metadata": {},
   "outputs": [
    {
     "data": {
      "text/html": [
       "<div>\n",
       "<style scoped>\n",
       "    .dataframe tbody tr th:only-of-type {\n",
       "        vertical-align: middle;\n",
       "    }\n",
       "\n",
       "    .dataframe tbody tr th {\n",
       "        vertical-align: top;\n",
       "    }\n",
       "\n",
       "    .dataframe thead th {\n",
       "        text-align: right;\n",
       "    }\n",
       "</style>\n",
       "<table border=\"1\" class=\"dataframe\">\n",
       "  <thead>\n",
       "    <tr style=\"text-align: right;\">\n",
       "      <th></th>\n",
       "      <th>heat_capacity_cv</th>\n",
       "    </tr>\n",
       "    <tr>\n",
       "      <th>name</th>\n",
       "      <th></th>\n",
       "    </tr>\n",
       "  </thead>\n",
       "  <tbody>\n",
       "    <tr>\n",
       "      <td>gdb74280</td>\n",
       "      <td>37.386</td>\n",
       "    </tr>\n",
       "    <tr>\n",
       "      <td>gdb44187</td>\n",
       "      <td>30.009</td>\n",
       "    </tr>\n",
       "    <tr>\n",
       "      <td>gdb87142</td>\n",
       "      <td>38.695</td>\n",
       "    </tr>\n",
       "    <tr>\n",
       "      <td>gdb75126</td>\n",
       "      <td>30.296</td>\n",
       "    </tr>\n",
       "    <tr>\n",
       "      <td>gdb5054</td>\n",
       "      <td>22.542</td>\n",
       "    </tr>\n",
       "    <tr>\n",
       "      <td>...</td>\n",
       "      <td>...</td>\n",
       "    </tr>\n",
       "    <tr>\n",
       "      <td>gdb52242</td>\n",
       "      <td>32.362</td>\n",
       "    </tr>\n",
       "    <tr>\n",
       "      <td>gdb14638</td>\n",
       "      <td>29.139</td>\n",
       "    </tr>\n",
       "    <tr>\n",
       "      <td>gdb12017</td>\n",
       "      <td>33.461</td>\n",
       "    </tr>\n",
       "    <tr>\n",
       "      <td>gdb64255</td>\n",
       "      <td>36.856</td>\n",
       "    </tr>\n",
       "    <tr>\n",
       "      <td>gdb75205</td>\n",
       "      <td>33.587</td>\n",
       "    </tr>\n",
       "  </tbody>\n",
       "</table>\n",
       "<p>84747 rows × 1 columns</p>\n",
       "</div>"
      ],
      "text/plain": [
       "         heat_capacity_cv\n",
       "name                     \n",
       "gdb74280           37.386\n",
       "gdb44187           30.009\n",
       "gdb87142           38.695\n",
       "gdb75126           30.296\n",
       "gdb5054            22.542\n",
       "...                   ...\n",
       "gdb52242           32.362\n",
       "gdb14638           29.139\n",
       "gdb12017           33.461\n",
       "gdb64255           36.856\n",
       "gdb75205           33.587\n",
       "\n",
       "[84747 rows x 1 columns]"
      ]
     },
     "execution_count": 16,
     "metadata": {},
     "output_type": "execute_result"
    }
   ],
   "source": [
    "target"
   ]
  },
  {
   "cell_type": "markdown",
   "metadata": {},
   "source": [
    "Testing if the data is ordered properly."
   ]
  },
  {
   "cell_type": "code",
   "execution_count": 30,
   "metadata": {},
   "outputs": [
    {
     "name": "stdout",
     "output_type": "stream",
     "text": [
      "heat_capacity_cv    37.386\n",
      "Name: gdb74280, dtype: object\n",
      "{'name': 'dsgdb9nsd_074280'}\n"
     ]
    }
   ],
   "source": [
    "print(target.iloc[0])\n",
    "print(molecule_graphs[0].graph)"
   ]
  },
  {
   "cell_type": "markdown",
   "metadata": {},
   "source": [
    "## Initializing the network"
   ]
  },
  {
   "cell_type": "code",
   "execution_count": 5,
   "metadata": {},
   "outputs": [],
   "source": [
    "adjacency_matrix,\\\n",
    "node_attributes,\\\n",
    "edge_attributes = spek.utils.nx_to_numpy(molecule_graphs, \n",
    "                                          auto_pad = True, \n",
    "                                          self_loops = False,\n",
    "                                          nf_keys = ['atomic_num',\n",
    "                                                     'atom_degree',\n",
    "                                                     'atom_formal_charge',\n",
    "                                                     'atom_hybridization'],\n",
    "                                          ef_keys = ['dist_atoms', \n",
    "                                                     'bond_type'])"
   ]
  },
  {
   "cell_type": "code",
   "execution_count": 53,
   "metadata": {},
   "outputs": [
    {
     "name": "stdout",
     "output_type": "stream",
     "text": [
      "(84747, 29, 4)\n"
     ]
    }
   ],
   "source": [
    "print(node_attributes.shape)\n",
    "N = node_attributes.shape[1] #number of nodes --> padded to max number of atoms\n",
    "F = node_attributes.shape[2]"
   ]
  },
  {
   "cell_type": "code",
   "execution_count": 54,
   "metadata": {},
   "outputs": [
    {
     "name": "stdout",
     "output_type": "stream",
     "text": [
      "(84747, 29, 29, 2)\n"
     ]
    }
   ],
   "source": [
    "print(edge_attributes.shape)\n",
    "S = edge_attributes.shape[-1]"
   ]
  },
  {
   "cell_type": "code",
   "execution_count": 55,
   "metadata": {},
   "outputs": [
    {
     "name": "stdout",
     "output_type": "stream",
     "text": [
      "(84747, 1)\n"
     ]
    }
   ],
   "source": [
    "print(target.shape)\n",
    "target_shape = target.shape[-1]"
   ]
  },
  {
   "cell_type": "markdown",
   "metadata": {},
   "source": [
    "Train test split"
   ]
  },
  {
   "cell_type": "code",
   "execution_count": 6,
   "metadata": {},
   "outputs": [],
   "source": [
    "A_train, A_test, X_train, X_test,\\\n",
    "E_train, E_test, y_train, y_test = train_test_split(adjacency_matrix,\n",
    "                                                    node_attributes,\n",
    "                                                    edge_attributes,\n",
    "                                                    target, random_state = 0)"
   ]
  },
  {
   "cell_type": "markdown",
   "metadata": {},
   "source": [
    "### Model"
   ]
  },
  {
   "cell_type": "code",
   "execution_count": 57,
   "metadata": {},
   "outputs": [
    {
     "name": "stderr",
     "output_type": "stream",
     "text": [
      "WARNING: Logging before flag parsing goes to stderr.\n",
      "W0922 13:15:03.081300 140647779903296 deprecation_wrapper.py:119] From /home/dionizije/anaconda3/envs/ml/lib/python3.7/site-packages/keras/backend/tensorflow_backend.py:74: The name tf.get_default_graph is deprecated. Please use tf.compat.v1.get_default_graph instead.\n",
      "\n",
      "W0922 13:15:03.187721 140647779903296 deprecation_wrapper.py:119] From /home/dionizije/anaconda3/envs/ml/lib/python3.7/site-packages/keras/backend/tensorflow_backend.py:517: The name tf.placeholder is deprecated. Please use tf.compat.v1.placeholder instead.\n",
      "\n"
     ]
    }
   ],
   "source": [
    "# input layer\n",
    "X_input = Input(shape = (N, F))\n",
    "A_input = Input(shape = (N, N))\n",
    "E_input = Input(shape = (N, N, S))"
   ]
  },
  {
   "cell_type": "code",
   "execution_count": null,
   "metadata": {},
   "outputs": [],
   "source": [
    "graph_convolution_1 = EdgeConditionedConv(32, activation = 'relu')([X_input, A_input, E_input])\n",
    "graph_convolution_2 = EdgeConditionedConv(64, activation = 'relu')([graph_convolution_1, A_input, E_input])\n",
    "pooling_layer = GlobalAttentionPool(128)(graph_convolution_2)\n",
    "dense_layer = Dense(128, activation = 'relu')(pooling_layer)\n",
    "output_layer = Dense(target_shape)(dense_layer)"
   ]
  },
  {
   "cell_type": "code",
   "execution_count": null,
   "metadata": {},
   "outputs": [],
   "source": [
    "model = Model(inputs = [X_input, A_input, E_input], outputs = output_layer)\n",
    "optimizer = Adam()\n",
    "model.compile(optimizer = optimizer, loss = 'mse', metrics = ['mae', 'mse'])"
   ]
  },
  {
   "cell_type": "code",
   "execution_count": null,
   "metadata": {},
   "outputs": [],
   "source": [
    "early_stopper = EarlyStopping(monitor='val_loss', patience = 10, restore_best_weights = True)"
   ]
  },
  {
   "cell_type": "code",
   "execution_count": null,
   "metadata": {},
   "outputs": [],
   "source": [
    "history = model.fit([X_train, A_train, E_train], y_train, validation_split = 0.1,\n",
    "          epochs = 50)"
   ]
  },
  {
   "cell_type": "code",
   "execution_count": 38,
   "metadata": {},
   "outputs": [],
   "source": [
    "history = pd.read_csv('/home/dionizije/Desktop/Code/Predicting molecular properties/Graph CNN/history.csv', index_col = 0)"
   ]
  },
  {
   "cell_type": "code",
   "execution_count": 48,
   "metadata": {},
   "outputs": [
    {
     "data": {
      "text/plain": [
       "<matplotlib.axes._subplots.AxesSubplot at 0x7fea2cd6ea10>"
      ]
     },
     "execution_count": 48,
     "metadata": {},
     "output_type": "execute_result"
    },
    {
     "data": {
      "image/png": "[encoded data removed]",
      "text/plain": [
       "<Figure size 432x288 with 1 Axes>"
      ]
     },
     "metadata": {
      "needs_background": "light"
     },
     "output_type": "display_data"
    }
   ],
   "source": [
    "sns.lineplot(data = [history['loss'], history['val_mean_squared_error']],\n",
    "             palette=sns.color_palette(\"hls\", 2), dashes = False)"
   ]
  },
  {
   "cell_type": "code",
   "execution_count": null,
   "metadata": {},
   "outputs": [],
   "source": [
    "y_pred = model.predict([X_test, A_test, E_test])"
   ]
  },
  {
   "cell_type": "code",
   "execution_count": 7,
   "metadata": {},
   "outputs": [],
   "source": [
    "y_pred = pd.read_csv('/home/dionizije/Desktop/Code/Predicting molecular properties/Graph CNN/y_pred.csv',\n",
    "                    header = None)"
   ]
  },
  {
   "cell_type": "code",
   "execution_count": 8,
   "metadata": {},
   "outputs": [
    {
     "name": "stdout",
     "output_type": "stream",
     "text": [
      "0.2930159470823781\n"
     ]
    }
   ],
   "source": [
    "print(mean_absolute_error(y_test, y_pred))"
   ]
  }
 ],
 "metadata": {
  "kernelspec": {
   "display_name": "Python 3",
   "language": "python",
   "name": "python3"
  },
  "language_info": {
   "codemirror_mode": {
    "name": "ipython",
    "version": 3
   },
   "file_extension": ".py",
   "mimetype": "text/x-python",
   "name": "python",
   "nbconvert_exporter": "python",
   "pygments_lexer": "ipython3",
   "version": "3.7.4"
  }
 },
 "nbformat": 4,
 "nbformat_minor": 2
}
