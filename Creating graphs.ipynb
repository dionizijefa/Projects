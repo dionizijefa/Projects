{
 "cells": [
  {
   "cell_type": "markdown",
   "metadata": {},
   "source": [
    "## Creating graphs from molecules"
   ]
  },
  {
   "cell_type": "code",
   "execution_count": 4,
   "metadata": {},
   "outputs": [],
   "source": [
    "from rdkit.Chem.rdmolfiles import MolFromMol2File\n",
    "import os\n",
    "import pandas as pd\n",
    "from spektral.utils import nx_to_adj\n",
    "from rdkit import Chem\n",
    "import networkx as nx\n",
    "from matplotlib import pyplot as plt\n",
    "from tqdm import tqdm"
   ]
  },
  {
   "cell_type": "code",
   "execution_count": null,
   "metadata": {},
   "outputs": [],
   "source": [
    "train = pd.read_csv('/home/dionizije/Desktop/Code/Predicting molecular properties/train_graphs',\n",
    "                    index_col = 0)\n",
    "train_type_one = train.query(\"type == '1JHC'\") #using only one category from the train set\n",
    "\n",
    "train_type_one = pd.read_csv('/home/dionizije/Desktop/Code/Predicting molecular properties/train_type_one.csv',\n",
    "                             index_col = [0])"
   ]
  },
  {
   "cell_type": "code",
   "execution_count": null,
   "metadata": {},
   "outputs": [],
   "source": [
    "molecule_names_type_one = train_type_one['molecule_name'].unique()"
   ]
  },
  {
   "cell_type": "markdown",
   "metadata": {},
   "source": [
    "### Converting .mol2 files to RDKit molecules"
   ]
  },
  {
   "cell_type": "code",
   "execution_count": null,
   "metadata": {},
   "outputs": [],
   "source": [
    "def mol_2_files():\n",
    "    files = []\n",
    "    for file in os.listdir('/home/dionizije/Desktop/Code/Predicting molecular properties/mol'):\n",
    "        if file.endswith('.mol2'):\n",
    "            files.append(file)\n",
    "    molecules = []\n",
    "    for molecule in files:\n",
    "        molecule_name = os.path.splitext(molecule)[0] #removes extensionmolecules = mol_2_files()\n",
    "        if molecule_name in molecule_names_type_one:\n",
    "            try: #try statement, because there is/could be a .mol2 file which is not a molecule and stops execution\n",
    "                mol2_object = MolFromMol2File(molecule,\n",
    "                                              sanitize = False)\n",
    "                molecule_name = molecule.rsplit(\".\", 1)[0] #gets rid of the extension\n",
    "                mol2_object.SetProp('_Name', '{}'.format(molecule_name))\n",
    "                molecules.append(mol2_object)\n",
    "            except:\n",
    "                pass\n",
    "    print('Molecules converted to RDkit molecules')\n",
    "    return molecules\n",
    "\n",
    "molecules = mol_2_files()"
   ]
  },
  {
   "cell_type": "markdown",
   "metadata": {},
   "source": [
    "### Creating networkx graphs with simple attributes from the training set and RDKit molecules"
   ]
  },
  {
   "cell_type": "code",
   "execution_count": 1,
   "metadata": {},
   "outputs": [],
   "source": [
    "def make_graphs(molecule):\n",
    "    \"\"\" makes networkx graphs from training set and structures(rdkit molecules) \"\"\"\n",
    "    molecule_name = molecule.GetProp(\"_Name\")\n",
    "    molecule_data_from_train = train_type_one.query(\"molecule_name == '{}'\".format(molecule_name))\n",
    "    \n",
    "    G = nx.Graph(name = molecule_name)\n",
    "\n",
    "    for atom in molecule.GetAtoms():\n",
    "        G.add_node(atom.GetIdx(),\n",
    "                   atomic_num = atom.GetAtomicNum(),\n",
    "                   atom_symbol = atom.GetSymbol())\n",
    "    for bond in molecule.GetBonds():\n",
    "        bond_atom_0 = bond.GetBeginAtomIdx()\n",
    "        bond_atom_1 = bond.GetEndAtomIdx()\n",
    "        G.add_edge(bond.GetBeginAtomIdx(),\n",
    "                       bond.GetEndAtomIdx(),\n",
    "                       bond_type = bond.GetBondType())\n",
    "        if bond_atom_0 in molecule_data_from_train['atom_index_0'].values and bond_atom_1 in molecule_data_from_train['atom_index_1'].values:\n",
    "            atoms_data = molecule_data_from_train.loc[(molecule_data_from_train['atom_index_0'] == bond_atom_0) \\\n",
    "                                                        & (molecule_data_from_train['atom_index_1'] == bond_atom_1)]\n",
    "        \n",
    "        elif bond_atom_1 in molecule_data_from_train['atom_index_0'].values and bond_atom_0 in molecule_data_from_train['atom_index_1'].values:\n",
    "            atoms_data = molecule_data_from_train.loc[(molecule_data_from_train['atom_index_0'] == bond_atom_1) \\\n",
    "                                                            & (molecule_data_from_train['atom_index_1'] == bond_atom_0)]\n",
    "        \n",
    "        else:\n",
    "            \"\"\"set to an arbitrary (if/elif) statement from code above to return empty rows and IndexError\"\"\"\n",
    "            atoms_data = molecule_data_from_train.loc[(molecule_data_from_train['atom_index_0'] == bond_atom_1) \\\n",
    "                                                            & (molecule_data_from_train['atom_index_1'] == bond_atom_0)]\n",
    "        try: \n",
    "            distance = atoms_data['dist_coupling_atoms'].values[0]\n",
    "            scalar_coupling_constant = atoms_data['scalar_coupling_constant'].values[0]\n",
    "            G[bond_atom_0][bond_atom_1]['dist_coupling_atoms'] = distance\n",
    "            G[bond_atom_0][bond_atom_1]['scalar_coupling_constant'] = scalar_coupling_constant\n",
    "            #color code the coupling edges to red\n",
    "            G[bond_atom_0][bond_atom_1]['color'] = 'r'\n",
    "            \n",
    "        except IndexError:\n",
    "            \"\"\" if atoms data in try statement has empty rows --> indexing the values returns IndexError\"\"\"\n",
    "            #sets non scalar coupling type one bonds to color blue\n",
    "            G[bond_atom_0][bond_atom_1]['color'] = 'b'          \n",
    "            \n",
    "    return G\n",
    "\n",
    "molecule_graphs = []\n",
    "for molecule in tqdm(molecules):\n",
    "    molecular_graph = make_graphs(molecule)\n",
    "    molecule_graphs.append(molecular_graph)"
   ]
  },
  {
   "cell_type": "markdown",
   "metadata": {},
   "source": [
    "#### Reading graphs from disk"
   ]
  },
  {
   "cell_type": "code",
   "execution_count": 10,
   "metadata": {},
   "outputs": [
    {
     "name": "stderr",
     "output_type": "stream",
     "text": [
      "100%|██████████| 84747/84747 [00:53<00:00, 1583.37it/s]\n"
     ]
    }
   ],
   "source": [
    "molecule_graphs = []\n",
    "path = '/home/dionizije/Desktop/Code/Predicting molecular properties/Graph CNN/Type one graphs/'\n",
    "for file in tqdm(os.listdir(path)):\n",
    "    graphs = nx.read_gpickle(path + file)\n",
    "    molecule_graphs.append(graphs)"
   ]
  },
  {
   "cell_type": "markdown",
   "metadata": {},
   "source": [
    "Drawing a graph to check values"
   ]
  },
  {
   "cell_type": "code",
   "execution_count": 11,
   "metadata": {},
   "outputs": [],
   "source": [
    "G = molecule_graphs[0]"
   ]
  },
  {
   "cell_type": "code",
   "execution_count": 12,
   "metadata": {},
   "outputs": [
    {
     "data": {
      "text/plain": [
       "<networkx.classes.graph.Graph at 0x7ff74d44bad0>"
      ]
     },
     "execution_count": 12,
     "metadata": {},
     "output_type": "execute_result"
    }
   ],
   "source": [
    "G"
   ]
  },
  {
   "cell_type": "code",
   "execution_count": 14,
   "metadata": {},
   "outputs": [
    {
     "data": {
      "text/plain": [
       "{0: 'C',\n",
       " 1: 'C',\n",
       " 2: 'C',\n",
       " 3: 'C',\n",
       " 4: 'C',\n",
       " 5: 'C',\n",
       " 6: 'C',\n",
       " 7: 'O',\n",
       " 8: 'C',\n",
       " 9: 'H',\n",
       " 10: 'H',\n",
       " 11: 'H',\n",
       " 12: 'H',\n",
       " 13: 'H',\n",
       " 14: 'H',\n",
       " 15: 'H',\n",
       " 16: 'H',\n",
       " 17: 'H',\n",
       " 18: 'H',\n",
       " 19: 'H',\n",
       " 20: 'H',\n",
       " 21: 'H',\n",
       " 22: 'H'}"
      ]
     },
     "execution_count": 14,
     "metadata": {},
     "output_type": "execute_result"
    }
   ],
   "source": [
    "atom_symbols = nx.get_node_attributes(G, 'atom_symbol')\n",
    "atom_symbols"
   ]
  },
  {
   "cell_type": "code",
   "execution_count": 16,
   "metadata": {},
   "outputs": [
    {
     "data": {
      "text/plain": [
       "{(0, 9): 84.4251,\n",
       " (0, 10): 85.5588,\n",
       " (0, 11): 85.0537,\n",
       " (2, 12): 112.83,\n",
       " (4, 14): 80.3934,\n",
       " (4, 13): 80.7328,\n",
       " (4, 15): 87.0661,\n",
       " (5, 16): 81.1439,\n",
       " (5, 17): 81.1387,\n",
       " (5, 18): 82.3481,\n",
       " (6, 20): 91.7227,\n",
       " (6, 19): 83.1955,\n",
       " (8, 21): 91.1123,\n",
       " (8, 22): 88.359}"
      ]
     },
     "execution_count": 16,
     "metadata": {},
     "output_type": "execute_result"
    }
   ],
   "source": [
    "scalar_const = nx.get_edge_attributes(G, 'scalar_coupling_constant')\n",
    "scalar_const"
   ]
  },
  {
   "cell_type": "code",
   "execution_count": 19,
   "metadata": {},
   "outputs": [
    {
     "data": {
      "image/png": "[encoded data removed]",
      "text/plain": [
       "<Figure size 432x288 with 1 Axes>"
      ]
     },
     "metadata": {},
     "output_type": "display_data"
    }
   ],
   "source": [
    "def draw_graph(graph):\n",
    "    pos = nx.kamada_kawai_layout(graph)\n",
    "    atom_symbols = nx.get_node_attributes(graph, 'atom_symbol')\n",
    "    scalar_const = nx.get_edge_attributes(graph, 'scalar_const')\n",
    "    edges = graph.edges()\n",
    "    colors = [graph[u][v]['color'] for u, v in edges]\n",
    "    nx.draw(graph, pos, labels = atom_symbols,edges = edges, edge_color = colors, width = 1)\n",
    "    \n",
    "draw_graph(molecule_graphs[0])"
   ]
  },
  {
   "cell_type": "code",
   "execution_count": null,
   "metadata": {},
   "outputs": [],
   "source": []
  }
 ],
 "metadata": {
  "kernelspec": {
   "display_name": "Python 3",
   "language": "python",
   "name": "python3"
  },
  "language_info": {
   "codemirror_mode": {
    "name": "ipython",
    "version": 3
   },
   "file_extension": ".py",
   "mimetype": "text/x-python",
   "name": "python",
   "nbconvert_exporter": "python",
   "pygments_lexer": "ipython3",
   "version": "3.7.4"
  }
 },
 "nbformat": 4,
 "nbformat_minor": 2
}
